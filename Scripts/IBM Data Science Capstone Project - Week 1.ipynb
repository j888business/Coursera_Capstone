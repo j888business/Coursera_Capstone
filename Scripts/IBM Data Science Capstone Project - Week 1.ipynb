{
 "cells": [
  {
   "cell_type": "markdown",
   "id": "overall-mexico",
   "metadata": {},
   "source": [
    "# IBM Data Science Capstone Project\n",
    "\n",
    "### Introduction\n",
    "\n",
    "Many Hong Kongers are frequent travelers to Japan as they like to eat Japanese food, sightseeing and enjoy the japanese culture. However, COVID-19 blocks all the ways travelling to Japan and most of them had not been to there for more than one and a half year. It is a golden opportunity for Japanese catering groups to explore their business in Hong Kong. By observation, many Japanese companies, like Donki (Supermarket), Sukiya (Fastfood shop) etc, are eager to expand their business in Hong Kong with propersity. It is imaginable that there is tremendious market and room for Japanese F&B group to develop in Hong Kong.\n",
    "\n",
    "### Business Problem\n",
    "Nevertheless, it is always a challenge for the foreign catering companies to select an optimal location as the rent in Hong Kong may well count around 30 - 40% of the operating costs. A good location and a bad location may crutically influence the profitability and  popularity of a Japanese restaurant. In this project, we would like to identify the best location by utilising data science approach and maching learning techniques to provide insight to those Japanese F&B companies for making a better decision on locating their restaurants in Hong Kong.\n",
    "\n",
    "### Data Acquisition\n",
    "\n",
    "The following APIs and data sources will be used for extract/generate the required information:\n",
    "\n",
    "- Areas and districts list from HK Government: split and define the 18 districts in Hong Kong\n",
    "    https://www.rvd.gov.hk/doc/tc/hkpr20/Appendix_TC.xlsx\n",
    "- Geocoder API: retrieve Latitude and Longitude of these neighborhoods\n",
    "- Foursquare API: collect top Venues data related to these neighborhoods\n",
    "    https://foursquare.com/products/places/"
   ]
  },
  {
   "cell_type": "code",
   "execution_count": null,
   "id": "structured-parameter",
   "metadata": {},
   "outputs": [],
   "source": []
  },
  {
   "cell_type": "code",
   "execution_count": null,
   "id": "boolean-april",
   "metadata": {},
   "outputs": [],
   "source": []
  }
 ],
 "metadata": {
  "kernelspec": {
   "display_name": "Python 3",
   "language": "python",
   "name": "python3"
  },
  "language_info": {
   "codemirror_mode": {
    "name": "ipython",
    "version": 3
   },
   "file_extension": ".py",
   "mimetype": "text/x-python",
   "name": "python",
   "nbconvert_exporter": "python",
   "pygments_lexer": "ipython3",
   "version": "3.6.10"
  }
 },
 "nbformat": 4,
 "nbformat_minor": 5
}
